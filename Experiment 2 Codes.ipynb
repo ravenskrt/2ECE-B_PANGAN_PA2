{
 "cells": [
  {
   "cell_type": "markdown",
   "id": "343efed7-eee7-442a-b57b-acdacc285d28",
   "metadata": {},
   "source": [
    "#### Normalization Problem"
   ]
  },
  {
   "cell_type": "code",
   "execution_count": 3,
   "id": "44896756-fa4a-470b-b0e0-de9c6f6f2af0",
   "metadata": {},
   "outputs": [],
   "source": [
    "import numpy as np"
   ]
  },
  {
   "cell_type": "code",
   "execution_count": 5,
   "id": "072598e4-c3ea-4e1a-a078-3ae088e4b505",
   "metadata": {},
   "outputs": [
    {
     "name": "stdout",
     "output_type": "stream",
     "text": [
      "[[-0.80494826 -1.52588937 -1.54831628 -1.08588226 -1.31526264]\n",
      " [-1.11557038 -1.56763342 -1.54511374 -1.51741371 -1.51029523]\n",
      " [-1.247719   -1.3555922  -1.50777903 -0.90871217 -0.95749692]\n",
      " [-1.21873121 -0.92029515 -0.95426164 -1.45903868 -0.82556337]\n",
      " [-1.0361297  -1.55226863 -1.32656974 -1.7165221  -0.98765352]]\n"
     ]
    }
   ],
   "source": [
    "#Create a random 5x5 ndarray and store it in variable x\n",
    "x = np.random.random((5,5))\n",
    "#Normalize x using the given formula\n",
    "z = ( x - np.mean(x) / np.std(x))\n",
    "#Print the normalized x\n",
    "print (z)\n",
    "\n",
    "np.save('X_normalized', z)"
   ]
  },
  {
   "cell_type": "markdown",
   "id": "1eef4183-2458-47d4-a5f4-30af2b2dbece",
   "metadata": {},
   "source": [
    "#### Divisible by 3 Problem"
   ]
  },
  {
   "cell_type": "code",
   "execution_count": 9,
   "id": "6f8d9ecf-7de9-4536-8ad3-57a7804278f0",
   "metadata": {},
   "outputs": [],
   "source": [
    "import numpy as np"
   ]
  },
  {
   "cell_type": "code",
   "execution_count": 11,
   "id": "4d899da1-756e-45df-b91a-92ec04308751",
   "metadata": {},
   "outputs": [
    {
     "name": "stdout",
     "output_type": "stream",
     "text": [
      "Squared elements\n",
      "[[    1     4     9    16    25    36    49    64    81   100]\n",
      " [  121   144   169   196   225   256   289   324   361   400]\n",
      " [  441   484   529   576   625   676   729   784   841   900]\n",
      " [  961  1024  1089  1156  1225  1296  1369  1444  1521  1600]\n",
      " [ 1681  1764  1849  1936  2025  2116  2209  2304  2401  2500]\n",
      " [ 2601  2704  2809  2916  3025  3136  3249  3364  3481  3600]\n",
      " [ 3721  3844  3969  4096  4225  4356  4489  4624  4761  4900]\n",
      " [ 5041  5184  5329  5476  5625  5776  5929  6084  6241  6400]\n",
      " [ 6561  6724  6889  7056  7225  7396  7569  7744  7921  8100]\n",
      " [ 8281  8464  8649  8836  9025  9216  9409  9604  9801 10000]]\n",
      "\n",
      "Elements divisible by 3: \n",
      "[   9   36   81  144  225  324  441  576  729  900 1089 1296 1521 1764\n",
      " 2025 2304 2601 2916 3249 3600 3969 4356 4761 5184 5625 6084 6561 7056\n",
      " 7569 8100 8649 9216 9801]\n"
     ]
    }
   ],
   "source": [
    "#Create a 10x10 ndarray with positive integers of 1-100\n",
    "a = np.arange(1,101).reshape(10,10)\n",
    "#Square the elements \n",
    "b = (np.array(a)**2)\n",
    "#Store all the elements divisible by 3 in variable c\n",
    "c = (b % 3 == 0)\n",
    "#In variable d, return the elements that is divisible by 3 from variable b\n",
    "d = b[c]\n",
    "\n",
    "#Print a header for the squared elements\n",
    "print(\"Squared elements\")\n",
    "#Print the squared values\n",
    "print(b)\n",
    "#Add space for aesthetic purposes\n",
    "print()\n",
    "#Print a header for the elements divisible by 3\n",
    "print(\"Elements divisible by 3: \")\n",
    "#Print the values divisible by 3\n",
    "print(d)\n",
    "\n",
    "#Save the result\n",
    "np.save(\"div_by_3.npy\", d)"
   ]
  },
  {
   "cell_type": "code",
   "execution_count": null,
   "id": "4b5c087f-b766-4a2f-a206-200bcee9a4ed",
   "metadata": {},
   "outputs": [],
   "source": []
  }
 ],
 "metadata": {
  "kernelspec": {
   "display_name": "Python 3 (ipykernel)",
   "language": "python",
   "name": "python3"
  },
  "language_info": {
   "codemirror_mode": {
    "name": "ipython",
    "version": 3
   },
   "file_extension": ".py",
   "mimetype": "text/x-python",
   "name": "python",
   "nbconvert_exporter": "python",
   "pygments_lexer": "ipython3",
   "version": "3.12.4"
  }
 },
 "nbformat": 4,
 "nbformat_minor": 5
}
